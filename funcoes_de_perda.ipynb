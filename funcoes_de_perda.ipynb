{
  "nbformat": 4,
  "nbformat_minor": 0,
  "metadata": {
    "colab": {
      "name": "funcoes-de-perda.ipynb",
      "private_outputs": true,
      "provenance": [],
      "collapsed_sections": [],
      "authorship_tag": "ABX9TyPfS7k0Pa4Tlk13KMRniXuD",
      "include_colab_link": true
    },
    "kernelspec": {
      "name": "python3",
      "display_name": "Python 3"
    },
    "language_info": {
      "name": "python"
    },
    "accelerator": "GPU"
  },
  "cells": [
    {
      "cell_type": "markdown",
      "metadata": {
        "id": "view-in-github",
        "colab_type": "text"
      },
      "source": [
        "<a href=\"https://colab.research.google.com/github/vicpb/treinando-rn-dp-pytorch-alura/blob/main/funcoes_de_perda.ipynb\" target=\"_parent\"><img src=\"https://colab.research.google.com/assets/colab-badge.svg\" alt=\"Open In Colab\"/></a>"
      ]
    },
    {
      "cell_type": "markdown",
      "metadata": {
        "id": "eUARbRmbi6pw"
      },
      "source": [
        "# Funções de perda\n",
        "\n",
        "O módulo nn e suas 1001 utilidades, também fornece as implementações das principais funções de perda. Então vamos primeiro importar o torch e o módulo nn"
      ]
    },
    {
      "cell_type": "code",
      "metadata": {
        "id": "_n_D8Szbi0ZP"
      },
      "source": [
        "import torch\n",
        "from torch import nn"
      ],
      "execution_count": null,
      "outputs": []
    },
    {
      "cell_type": "markdown",
      "metadata": {
        "id": "i8aBx1PUkIbC"
      },
      "source": [
        "Antes de tudo, vamos conferir qual dispositivo de hardware está disponível para uso."
      ]
    },
    {
      "cell_type": "code",
      "metadata": {
        "id": "XCn9TuqrkJHt"
      },
      "source": [
        "if torch.cuda.is_available():\n",
        "  device = torch.device('cuda')\n",
        "else:\n",
        "  device = torch.device('cpu')\n",
        "\n",
        "print(device)"
      ],
      "execution_count": null,
      "outputs": []
    },
    {
      "cell_type": "markdown",
      "metadata": {
        "id": "CdkluAiqkydh"
      },
      "source": [
        "Vamos trabalhar com o dataset de classificação de vinhos.\n",
        "\n",
        "https://scikit-learn.org/stable/modules/generated/sklearn.datasets.load_wine.html"
      ]
    },
    {
      "cell_type": "code",
      "metadata": {
        "id": "BLSAfIfHkIHa"
      },
      "source": [
        "from sklearn import datasets\n",
        "\n",
        "wine = datasets.load_wine()\n",
        "data = wine.data\n",
        "target = wine.target\n",
        "\n",
        "print(data.shape, target.shape)\n",
        "print(wine.feature_names, wine.target_names)"
      ],
      "execution_count": null,
      "outputs": []
    },
    {
      "cell_type": "markdown",
      "metadata": {
        "id": "4BdeGZY6nC7D"
      },
      "source": [
        "Vamos instanciar um MLP com uma camada escondida e uma camada de saída."
      ]
    },
    {
      "cell_type": "code",
      "metadata": {
        "id": "3ZSfZsHlnJK6"
      },
      "source": [
        "class WineClassifier(nn.Module):\n",
        "  \n",
        "  def __init__(self, input_size, hidden_size, out_size):\n",
        "    super(WineClassifier, self).__init__()\n",
        "\n",
        "    self.hidden = nn.Linear(input_size, hidden_size)\n",
        "    self.relu = nn.ReLU()\n",
        "    self.out = nn.Linear(hidden_size, out_size)\n",
        "    self.softmax = nn.Softmax()\n",
        "\n",
        "  def forward(self, X):\n",
        "\n",
        "    feature = self.relu(self.hidden(X))\n",
        "    output = self.softmax(self.out(feature))\n",
        "\n",
        "    return output\n",
        "  \n",
        "input_size   = data.shape[1]\n",
        "hidden_size  = 32\n",
        "out_size     = len(wine.target_names)\n",
        "\n",
        "net = WineClassifier(input_size, hidden_size, out_size).to(device) #cast to GPU\n"
      ],
      "execution_count": null,
      "outputs": []
    },
    {
      "cell_type": "code",
      "metadata": {
        "id": "DfJiCix9ongo"
      },
      "source": [
        "print(net)"
      ],
      "execution_count": null,
      "outputs": []
    },
    {
      "cell_type": "markdown",
      "metadata": {
        "id": "zxaDjQTcor04"
      },
      "source": [
        "#Classificação\n",
        "\n",
        "O primeiro passo é instanciar a função de perda de sua escolha. Trata-se de um problema de classificação com 3 classes, nesse caso a Cross Entropy é uma função recomendada, que no PyTorch recebe o nome de CrossEntropyLoss:\n",
        "https://pytorch.org/docs/stable/nn.html#crossentropyloss\n",
        "\n",
        "**Assim como a rede, as entradas e os rótulos, a função de perda também deve ser carregada na GPU**"
      ]
    },
    {
      "cell_type": "code",
      "metadata": {
        "id": "K8wlS1R1opD5"
      },
      "source": [
        "criterion = nn.CrossEntropyLoss().to(device) #cast to GPU"
      ],
      "execution_count": null,
      "outputs": []
    },
    {
      "cell_type": "markdown",
      "metadata": {
        "id": "UNAkkqtepRwW"
      },
      "source": [
        "Antes de aplicar a função de perda, vamos fazer o cast dos dados para tensores e extrair as predições y' da rede."
      ]
    },
    {
      "cell_type": "code",
      "metadata": {
        "id": "SdUEp7H8org-"
      },
      "source": [
        "Xtns = torch.from_numpy(data).float()\n",
        "Ytns = torch.from_numpy(target)\n",
        "\n",
        "#cast to GPU\n",
        "\n",
        "Xtns = Xtns.to(device)\n",
        "Ytns = Ytns.to(device)\n",
        "\n",
        "print(Xtns.dtype, Ytns.dtype)"
      ],
      "execution_count": null,
      "outputs": []
    },
    {
      "cell_type": "code",
      "metadata": {
        "id": "W6LicGRMp2jq"
      },
      "source": [
        "pred = net(Xtns)"
      ],
      "execution_count": null,
      "outputs": []
    },
    {
      "cell_type": "markdown",
      "metadata": {
        "id": "eh4qOOcUpoV9"
      },
      "source": [
        "Confira as dimensões de y e y'. Enquanto as predições estão em termos de probabilidade, os rótulos de classificação devem ser valores inteiros referentes aos índices das classes."
      ]
    },
    {
      "cell_type": "code",
      "metadata": {
        "id": "28yQbk3dpir9"
      },
      "source": [
        "print(pred.shape, Ytns.shape)\n",
        "\n",
        "print(pred[0].data, Ytns[0].data)"
      ],
      "execution_count": null,
      "outputs": []
    },
    {
      "cell_type": "markdown",
      "metadata": {
        "id": "w18St7nxrKSc"
      },
      "source": [
        "As funções de perda implementadas no PyTorch esperam o seguinte padrão de chamada:\n",
        "\n",
        "loss = criterion(prediction, target)\n",
        "\n",
        "Vale lembrar que cada função de perda possui especificidades quanto às dimensões dos seus parâmetros. Para a Cross Entropy:\n",
        "\n",
        "- prediction: (N, C)\n",
        "- target(N, )"
      ]
    },
    {
      "cell_type": "code",
      "metadata": {
        "id": "F3wbmck-rH6Z"
      },
      "source": [
        "loss = criterion(pred, Ytns)\n",
        "print(loss)"
      ],
      "execution_count": null,
      "outputs": []
    },
    {
      "cell_type": "markdown",
      "metadata": {
        "id": "aWwQtUPqsiVH"
      },
      "source": [
        "\n",
        "\n"
      ]
    },
    {
      "cell_type": "code",
      "metadata": {
        "id": "eqzoKD4WryN5"
      },
      "source": [
        ""
      ],
      "execution_count": null,
      "outputs": []
    }
  ]
}