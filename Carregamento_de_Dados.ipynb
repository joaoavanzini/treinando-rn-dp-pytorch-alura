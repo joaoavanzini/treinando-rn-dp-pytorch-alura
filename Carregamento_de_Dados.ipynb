{
  "nbformat": 4,
  "nbformat_minor": 0,
  "metadata": {
    "colab": {
      "name": "Carregamento de Dados.ipynb",
      "provenance": [],
      "collapsed_sections": [],
      "include_colab_link": true
    },
    "kernelspec": {
      "name": "python3",
      "display_name": "Python 3"
    },
    "accelerator": "GPU"
  },
  "cells": [
    {
      "cell_type": "markdown",
      "metadata": {
        "id": "view-in-github",
        "colab_type": "text"
      },
      "source": [
        "<a href=\"https://colab.research.google.com/github/vicpb/treinando-rn-dp-pytorch-alura/blob/main/Carregamento_de_Dados.ipynb\" target=\"_parent\"><img src=\"https://colab.research.google.com/assets/colab-badge.svg\" alt=\"Open In Colab\"/></a>"
      ]
    },
    {
      "cell_type": "markdown",
      "metadata": {
        "id": "JDM84H0wO5I_"
      },
      "source": [
        "# Carregamento de Dados\n",
        "\n",
        "Objetivos dessa aula:\n",
        "* Carregar dados reais do Pytorch\n",
        "* Implementar o fluxo de treinamento completo de uma rede\n",
        "\n",
        "Mas calma que essa ainda não é a linha de chegada. Ainda precisaremos falar do fluxo de validação."
      ]
    },
    {
      "cell_type": "markdown",
      "metadata": {
        "id": "Qg_W2-tDlpz3"
      },
      "source": [
        "## Hiperparâmetros\n",
        "\n",
        "Agora que a brincadeira está ficando séria, que tal uma sugestão de como organizar o seu código? Para facilitar o entendimento e manutenção do código, mantenha sempre no início os seguintes elementos:\n",
        "* imports de pacotes\n",
        "* configuração de hiperparâmetros\n",
        "* definição do hardware padrão utilizado\n",
        "\n",
        "Nessa aula vamos trabalhar com dados reais, então **vamos precisar de GPU!** Então não se esqueça de mudar as configurações desse ambiente do colab. <br>\n",
        "Sugiro rodar esse mesmo código sem GPU em outro momento, só pra sentir o gostinho de como a GPU facilitou o uso de redes neurais."
      ]
    },
    {
      "cell_type": "code",
      "metadata": {
        "id": "BwF0L2d6lH5O",
        "colab": {
          "base_uri": "https://localhost:8080/"
        },
        "outputId": "2001cdef-c47e-4837-a5fa-69fc5ad37fab"
      },
      "source": [
        "import torch\n",
        "from torch import nn, optim\n",
        "\n",
        "from torchvision import datasets\n",
        "from torchvision import transforms \n",
        "\n",
        "from torch.utils.data import DataLoader\n",
        "\n",
        "import matplotlib.pyplot as plt\n",
        "import numpy as np\n",
        "import time\n",
        "\n",
        "args = {\n",
        "    'batch_size': 5,\n",
        "    'num_workers': 4,\n",
        "    'num_classes': 10,\n",
        "    'lr': 1e-4,\n",
        "    'weight_decay': 5e-4,\n",
        "    'num_epochs': 30\n",
        "}\n",
        "\n",
        "if torch.cuda.is_available():\n",
        "  args['device'] = torch.device('cuda')\n",
        "else:\n",
        "  args['device'] = torch.device('cpu')\n",
        "\n",
        "print(args['device'])"
      ],
      "execution_count": 1,
      "outputs": [
        {
          "output_type": "stream",
          "text": [
            "cuda\n"
          ],
          "name": "stdout"
        }
      ]
    },
    {
      "cell_type": "markdown",
      "metadata": {
        "id": "bsFc4SPtRKM-"
      },
      "source": [
        "## Datasets\n",
        "\n",
        "O PyTorch possui dois pacotes que trazem datasets prontos para uso.\n",
        "\n",
        "* Torchtext: https://torchtext.readthedocs.io/en/latest/datasets.html\n",
        "* Torchvision: https://pytorch.org/docs/stable/torchvision/datasets.html\n",
        "\n",
        "Como os nomes indicam, são datasets de textos (text) e imagens (vision), duas aplicações onde redes neurais são muito bem sucedidas.\n",
        "\n",
        "Para aplicações com textos e outros tipos de séries temporais, o carregamento de dados possui nuances que dificultam o entendimento, portanto vamos concentrar no carregamento de imagens.\n",
        "\n",
        "### Torchvision datasets\n",
        "\n",
        "Para trabalhar com datasets do pacote torchvision, basta\n",
        "* Importar o pacote\n",
        "``` python \n",
        "from torchvision import datasets \n",
        "```\n",
        "* Carregar o dataset do seu interesse (ex: MNIST)\n",
        "``` python \n",
        "data = datasets.MNIST(root, train=True, transform=None, target_transform=None, download=False)\n",
        "```\n",
        "\n",
        "Documentação: https://pytorch.org/docs/stable/torchvision/datasets.html\n",
        "\n",
        "### Torchvision transforms\n",
        "\n",
        "Não vamos entrar em detalhes sobre transformações de imagens, mas para qualquer dataset é necessário transformá-lo em tensor para que possamos alimentar uma rede em pytorch. Isso pode ser feito no carregamento dos dados, basta:\n",
        "\n",
        "* Importar o pacote transforms\n",
        "``` python \n",
        "from torchvision import transforms \n",
        "```\n",
        "* preencher o parâmetro ```tranform``` do dataset com a função que converte para tensor.\n",
        "``` python \n",
        "transforms.ToTensor() \n",
        "```\n",
        "\n",
        "Pronto! Quando seu dado for carregado, ele passará pela transformação indicada no parâmetro ```tranform```, nesse caso, convertendo o dado para um tensor.\n",
        "\n",
        "Documentação: https://pytorch.org/docs/stable/torchvision/transforms.html\n"
      ]
    },
    {
      "cell_type": "code",
      "metadata": {
        "id": "gTf4IYONRJvW",
        "colab": {
          "base_uri": "https://localhost:8080/"
        },
        "outputId": "88077990-1488-4108-d204-fa2944baab48"
      },
      "source": [
        "train_set = datasets.MNIST('./', \n",
        "                           train = True, \n",
        "                           transform = transforms.ToTensor(),\n",
        "                           download = True)\n",
        "\n",
        "test_set = datasets.MNIST('./', \n",
        "                           train = False, \n",
        "                           transform = transforms.ToTensor(),\n",
        "                           download = False)\n",
        "\n",
        "print('Amostras de treino: ' + str(len(train_set)) + '\\nAmostras de Teste:' + str(len(test_set)))"
      ],
      "execution_count": 2,
      "outputs": [
        {
          "output_type": "stream",
          "text": [
            "Amostras de treino: 60000\n",
            "Amostras de Teste:10000\n"
          ],
          "name": "stdout"
        }
      ]
    },
    {
      "cell_type": "markdown",
      "metadata": {
        "id": "phD86edTqUsL"
      },
      "source": [
        "Cada dataset possui uma implementação específica internamente no pytorch. Verifique o ```type``` da variável que recebeu os dados e veja que se refere a uma classe específica do dataset.\n",
        "\n",
        "No entanto, o item de qualquer dataset **sempre será uma tupla ```(dado, rótulo)```**. "
      ]
    },
    {
      "cell_type": "code",
      "metadata": {
        "id": "WCT6dYK-mDvO",
        "colab": {
          "base_uri": "https://localhost:8080/"
        },
        "outputId": "7a5123ba-9429-4be6-d28c-1842ca3120b3"
      },
      "source": [
        "print(type(train_set))\n",
        "print(type(train_set[0]))"
      ],
      "execution_count": 3,
      "outputs": [
        {
          "output_type": "stream",
          "text": [
            "<class 'torchvision.datasets.mnist.MNIST'>\n",
            "<class 'tuple'>\n"
          ],
          "name": "stdout"
        }
      ]
    },
    {
      "cell_type": "markdown",
      "metadata": {
        "id": "faiKU3bAbCn4"
      },
      "source": [
        "Podemos então iterar no dataset para observar algumas amostras e seus rótulos."
      ]
    },
    {
      "cell_type": "code",
      "metadata": {
        "id": "osYMtHZxm-xa",
        "colab": {
          "base_uri": "https://localhost:8080/",
          "height": 809
        },
        "outputId": "7ca6d495-c7db-4673-a1dc-1bd7bbefb284"
      },
      "source": [
        "for i in range(3):\n",
        "  dado, rotulo = train_set[i]\n",
        "\n",
        "  plt.figure()\n",
        "  plt.imshow(dado[0])\n",
        "  plt.title('Rotulo: '+ str(rotulo))"
      ],
      "execution_count": 4,
      "outputs": [
        {
          "output_type": "display_data",
          "data": {
            "image/png": "[encoded data removed]",
            "text/plain": [
              "<Figure size 432x288 with 1 Axes>"
            ]
          },
          "metadata": {
            "tags": [],
            "needs_background": "light"
          }
        },
        {
          "output_type": "display_data",
          "data": {
            "image/png": "[encoded data removed]",
            "text/plain": [
              "<Figure size 432x288 with 1 Axes>"
            ]
          },
          "metadata": {
            "tags": [],
            "needs_background": "light"
          }
        },
        {
          "output_type": "display_data",
          "data": {
            "image/png": "[encoded data removed]",
            "text/plain": [
              "<Figure size 432x288 with 1 Axes>"
            ]
          },
          "metadata": {
            "tags": [],
            "needs_background": "light"
          }
        }
      ]
    },
    {
      "cell_type": "markdown",
      "metadata": {
        "id": "3VrnShaaZXfF"
      },
      "source": [
        "Temos um total de 70 mil amostras, mas elas **ainda não estão carregadas na memória** (isso seria bastante custoso). A vantagem da classe ```Dataset``` do Pytorch é que as amostras só são carregadas quando necessário.\n",
        "\n",
        "Sugestão: experimente trocar a transformação do Dataset para\n",
        "```python\n",
        "transforms.RandomCrop(12)\n",
        "```\n",
        "Essa função realiza um recorte aleatório de ```12 x 12``` (pixels) na imagem. Ao carregar a mesma amostra múltiplas vezes, um novo recorte será feito. "
      ]
    },
    {
      "cell_type": "code",
      "metadata": {
        "id": "Iv72f6llTL31",
        "colab": {
          "base_uri": "https://localhost:8080/",
          "height": 809
        },
        "outputId": "51b9fce4-9008-4c2f-c00a-daec130fb278"
      },
      "source": [
        "crop_set = datasets.MNIST('./', \n",
        "                           train=False, \n",
        "                           transform=transforms.RandomCrop(12),\n",
        "                           download=False)\n",
        "\n",
        "# Tuple (dado, rótulo)\n",
        "for i in range(3):\n",
        "  dado, rotulo = crop_set[0]\n",
        "  \n",
        "  plt.figure()\n",
        "  plt.imshow(dado)\n",
        "  plt.title('Rótulo: '+ str(rotulo))"
      ],
      "execution_count": 5,
      "outputs": [
        {
          "output_type": "display_data",
          "data": {
            "image/png": "[encoded data removed]",
            "text/plain": [
              "<Figure size 432x288 with 1 Axes>"
            ]
          },
          "metadata": {
            "tags": [],
            "needs_background": "light"
          }
        },
        {
          "output_type": "display_data",
          "data": {
            "image/png": "[encoded data removed]",
            "text/plain": [
              "<Figure size 432x288 with 1 Axes>"
            ]
          },
          "metadata": {
            "tags": [],
            "needs_background": "light"
          }
        },
        {
          "output_type": "display_data",
          "data": {
            "image/png": "[encoded data removed]",
            "text/plain": [
              "<Figure size 432x288 with 1 Axes>"
            ]
          },
          "metadata": {
            "tags": [],
            "needs_background": "light"
          }
        }
      ]
    },
    {
      "cell_type": "markdown",
      "metadata": {
        "id": "BO8AVlT4bTQC"
      },
      "source": [
        "Em resumo, cada vez que indexamos um item do dataset, as seguintes operações são realizadas:\n",
        "* Amostra lida do arquivo e carregada como uma tupla ```(dado, rótulo)```\n",
        "* As transformações são aplicadas "
      ]
    },
    {
      "cell_type": "markdown",
      "metadata": {
        "id": "yZq6iuq6lQ9N"
      },
      "source": [
        "## Dataloader\n",
        "\n",
        "Essa aqui é uma das principais razões do Pytorch ser o pacote preferido de muitos profissionais. O Dataloader gerencia muito bem o carregamento de dados para o treinamento de redes neurais, trazendo as funções: \n",
        "\n",
        "* Separação dos dados em batches\n",
        "* Embaralhando os dados\n",
        "* Carregando batches em paralelo utilizando threads\n",
        "\n",
        "O uso de threads no carregamento minimiza períodos ociosos de processamento, visto que a leitura de dados em arquivo é um grande gargalo de tempo.\n",
        "\n",
        "As três funcionalidades que acabamos de conhecer são controladas pelos parâmetros da chamada do DataLoader.\n",
        "```python\n",
        "loader = DataLoader(dataset, batch_size=4, shuffle=True, num_workers=4)\n",
        "```\n"
      ]
    },
    {
      "cell_type": "code",
      "metadata": {
        "id": "xuETOc64MynK",
        "colab": {
          "base_uri": "https://localhost:8080/"
        },
        "outputId": "c958be5d-c022-44f3-eed8-8eb43c7a75eb"
      },
      "source": [
        "train_loader = DataLoader(train_set, \n",
        "                          batch_size=args['batch_size'], \n",
        "                          shuffle=True, \n",
        "                          num_workers=args['num_workers'])\n",
        "\n",
        "test_loader = DataLoader(test_set, \n",
        "                          batch_size=args['batch_size'], \n",
        "                          shuffle=True, \n",
        "                          num_workers=args['num_workers'])"
      ],
      "execution_count": 6,
      "outputs": [
        {
          "output_type": "stream",
          "text": [
            "/usr/local/lib/python3.7/dist-packages/torch/utils/data/dataloader.py:477: UserWarning: This DataLoader will create 4 worker processes in total. Our suggested max number of worker in current system is 2, which is smaller than what this DataLoader is going to create. Please be aware that excessive worker creation might get DataLoader running slow or even freeze, lower the worker number to avoid potential slowness/freeze if necessary.\n",
            "  cpuset_checked))\n"
          ],
          "name": "stderr"
        }
      ]
    },
    {
      "cell_type": "markdown",
      "metadata": {
        "id": "m_wBx0Uesrgu"
      },
      "source": [
        "O objeto retornado é um **iterador**, podendo ser utilizado para iterar em loops mas não suportando indexação."
      ]
    },
    {
      "cell_type": "code",
      "metadata": {
        "id": "6zw1aAcsVCyp",
        "colab": {
          "base_uri": "https://localhost:8080/",
          "height": 352
        },
        "outputId": "746ca93c-dbe8-42bc-af01-b18318f6ea4d"
      },
      "source": [
        "for batch in train_loader:\n",
        "  \n",
        "  dado, rotulo = batch\n",
        "  print(dado.size(), rotulo.size())\n",
        "\n",
        "  plt.imshow(dado[0][0])\n",
        "  plt.title('Rotulo: '+ str(rotulo[0]) )\n",
        "  break"
      ],
      "execution_count": 7,
      "outputs": [
        {
          "output_type": "stream",
          "text": [
            "/usr/local/lib/python3.7/dist-packages/torch/utils/data/dataloader.py:477: UserWarning: This DataLoader will create 4 worker processes in total. Our suggested max number of worker in current system is 2, which is smaller than what this DataLoader is going to create. Please be aware that excessive worker creation might get DataLoader running slow or even freeze, lower the worker number to avoid potential slowness/freeze if necessary.\n",
            "  cpuset_checked))\n"
          ],
          "name": "stderr"
        },
        {
          "output_type": "stream",
          "text": [
            "torch.Size([5, 1, 28, 28]) torch.Size([5])\n"
          ],
          "name": "stdout"
        },
        {
          "output_type": "display_data",
          "data": {
            "image/png": "[encoded data removed]",
            "text/plain": [
              "<Figure size 432x288 with 1 Axes>"
            ]
          },
          "metadata": {
            "tags": [],
            "needs_background": "light"
          }
        }
      ]
    },
    {
      "cell_type": "markdown",
      "metadata": {
        "id": "jPCE1MC8yf02"
      },
      "source": [
        "## Implementando o MLP\n",
        "\n",
        "\n",
        "**Lembrete**: Multi-Layer Perceptrons trabalham somente com dados unidimensionais (vetores). Sendo a imagem com dimensionalidade ```(1, 28, 28)```, precisamos linearizá-la antes de alimentar a rede. Isso implica que o a entrada da rede terá ```input_size = 28 x 28 x 1 = 784```"
      ]
    },
    {
      "cell_type": "code",
      "metadata": {
        "id": "n-9spUHCUzBm"
      },
      "source": [
        "class MLP(nn.Module):\n",
        "\n",
        "  def __init__(self, input_size, hidden_size, out_size):\n",
        "    super(MLP, self).__init__()\n",
        "\n",
        "    self.features  = nn.Sequential(\n",
        "                      nn.Linear(input_size, hidden_size),\n",
        "                      nn.ReLU(),\n",
        "                      nn.Linear(hidden_size, hidden_size),\n",
        "                      nn.ReLU()\n",
        "                    )\n",
        "    self.out     = nn.Linear(hidden_size, out_size)\n",
        "    self.softmax = nn.Softmax()\n",
        "\n",
        "  def forward(self, X):\n",
        "    \n",
        "    X = X.view(X.size(0), -1)\n",
        "\n",
        "    feature = self.features(X)\n",
        "    output  = self.softmax(self.out(feature))\n",
        "\n",
        "    return output\n",
        "\n",
        "input_size  = 28 * 28\n",
        "hidden_size = 128\n",
        "out_size    = 10 #classes\n",
        "\n",
        "torch.manual_seed(42)\n",
        "net = MLP(input_size, hidden_size, out_size).to(args['device']) #cast na GPU "
      ],
      "execution_count": 8,
      "outputs": []
    },
    {
      "cell_type": "markdown",
      "metadata": {
        "id": "sb7zTsWV1cyQ"
      },
      "source": [
        "## Definindo loss e otimizador"
      ]
    },
    {
      "cell_type": "code",
      "metadata": {
        "id": "nx4MecnX1e2E"
      },
      "source": [
        "criterion = nn.CrossEntropyLoss().to(args['device'])\n",
        "optimizer = optim.Adam(net.parameters(), lr=args['lr'], weight_decay=args['weight_decay'])"
      ],
      "execution_count": 9,
      "outputs": []
    },
    {
      "cell_type": "markdown",
      "metadata": {
        "id": "1ujnT7rl0bjg"
      },
      "source": [
        "# Fluxo de Treinamento\n",
        "\n",
        "Agora vamos aplicar o conhecimento que acabamos de aprender!\n",
        "\n",
        "Relembrando o passo a passo do fluxo de treinamento:\n",
        "* Iterar nas épocas\n",
        "* Iterar nos batches\n",
        "* Cast dos dados no dispositivo de hardware\n",
        "* Forward na rede e cálculo da loss\n",
        "* Cálculo do gradiente e atualização dos pesos\n",
        "\n",
        "Para acompanhar a convergência do seu modelo (e garantir que tudo foi feito certinho), ao final de cada época podemos imprimir a média e o desvio padrão das perdas de cada iteração."
      ]
    },
    {
      "cell_type": "code",
      "metadata": {
        "id": "KNuBUUrS0VCn",
        "colab": {
          "base_uri": "https://localhost:8080/"
        },
        "outputId": "97b6d754-fdc1-42a0-8e6c-f43947611ed3"
      },
      "source": [
        "for epoch in range(args['num_epochs']):\n",
        "  start = time.time()\n",
        "\n",
        "  epoch_loss = []\n",
        "  for batch in train_loader:\n",
        "    \n",
        "    dado, rotulo = batch\n",
        "\n",
        "    # Cast na GPU\n",
        "    dado   = dado.to(args['device'])\n",
        "    rotulo = rotulo.to(args['device'])\n",
        "\n",
        "    # Forward \n",
        "    pred = net(dado)\n",
        "    loss = criterion(pred, rotulo)\n",
        "    epoch_loss.append(loss.cpu().data)\n",
        "\n",
        "    # Backward\n",
        "    loss.backward()\n",
        "    optimizer.step()\n",
        "\n",
        "  epoch_loss = np.asarray(epoch_loss)\n",
        "  end = time.time()\n",
        "\n",
        "  print(\"Epoca %d, Loss: %.4f +\\- %.4f, Tempo: %.2f\" % (epoch, epoch_loss.mean(), epoch_loss.std(), end-start) )\n"
      ],
      "execution_count": 10,
      "outputs": [
        {
          "output_type": "stream",
          "text": [
            "/usr/local/lib/python3.7/dist-packages/torch/utils/data/dataloader.py:477: UserWarning: This DataLoader will create 4 worker processes in total. Our suggested max number of worker in current system is 2, which is smaller than what this DataLoader is going to create. Please be aware that excessive worker creation might get DataLoader running slow or even freeze, lower the worker number to avoid potential slowness/freeze if necessary.\n",
            "  cpuset_checked))\n",
            "/usr/local/lib/python3.7/dist-packages/ipykernel_launcher.py:20: UserWarning: Implicit dimension choice for softmax has been deprecated. Change the call to include dim=X as an argument.\n"
          ],
          "name": "stderr"
        },
        {
          "output_type": "stream",
          "text": [
            "Epoca 0, Loss: 1.8489 +\\- 0.2221, Tempo: 36.91\n",
            "Epoca 1, Loss: 2.0071 +\\- 0.2232, Tempo: 36.47\n",
            "Epoca 2, Loss: 2.1991 +\\- 0.2041, Tempo: 37.30\n",
            "Epoca 3, Loss: 2.2549 +\\- 0.1799, Tempo: 36.77\n",
            "Epoca 4, Loss: 2.2656 +\\- 0.1764, Tempo: 36.95\n",
            "Epoca 5, Loss: 2.2613 +\\- 0.1785, Tempo: 36.69\n",
            "Epoca 6, Loss: 2.2585 +\\- 0.1802, Tempo: 36.72\n",
            "Epoca 7, Loss: 2.2561 +\\- 0.1813, Tempo: 36.78\n",
            "Epoca 8, Loss: 2.2544 +\\- 0.1795, Tempo: 37.02\n",
            "Epoca 9, Loss: 2.2527 +\\- 0.1810, Tempo: 36.66\n",
            "Epoca 10, Loss: 2.2516 +\\- 0.1831, Tempo: 36.69\n",
            "Epoca 11, Loss: 2.2507 +\\- 0.1846, Tempo: 37.23\n",
            "Epoca 12, Loss: 2.2502 +\\- 0.1834, Tempo: 37.00\n",
            "Epoca 13, Loss: 2.2497 +\\- 0.1851, Tempo: 37.33\n",
            "Epoca 14, Loss: 2.2494 +\\- 0.1817, Tempo: 36.72\n",
            "Epoca 15, Loss: 2.2492 +\\- 0.1829, Tempo: 36.89\n",
            "Epoca 16, Loss: 2.2485 +\\- 0.1830, Tempo: 36.51\n",
            "Epoca 17, Loss: 2.2670 +\\- 0.1771, Tempo: 37.03\n",
            "Epoca 18, Loss: 2.3353 +\\- 0.1495, Tempo: 36.66\n",
            "Epoca 19, Loss: 2.3454 +\\- 0.1438, Tempo: 36.73\n",
            "Epoca 20, Loss: 2.3501 +\\- 0.1408, Tempo: 37.00\n",
            "Epoca 21, Loss: 2.3523 +\\- 0.1390, Tempo: 36.54\n",
            "Epoca 22, Loss: 2.3536 +\\- 0.1390, Tempo: 36.79\n",
            "Epoca 23, Loss: 2.3545 +\\- 0.1376, Tempo: 36.59\n",
            "Epoca 24, Loss: 2.3551 +\\- 0.1369, Tempo: 37.02\n",
            "Epoca 25, Loss: 2.3557 +\\- 0.1365, Tempo: 36.25\n",
            "Epoca 26, Loss: 2.3560 +\\- 0.1375, Tempo: 36.74\n",
            "Epoca 27, Loss: 2.3562 +\\- 0.1371, Tempo: 36.28\n",
            "Epoca 28, Loss: 2.3563 +\\- 0.1370, Tempo: 36.99\n",
            "Epoca 29, Loss: 2.3565 +\\- 0.1359, Tempo: 36.39\n"
          ],
          "name": "stdout"
        }
      ]
    },
    {
      "cell_type": "markdown",
      "metadata": {
        "id": "WVQ3sTGC3SSL"
      },
      "source": [
        "### Interpretando a qualidade do modelo\n",
        "\n",
        "Apesar da loss ser o critério utilizado na otimização do modelo, seu valor é pouco interpretável por seres humanos.\n",
        "\n",
        "* *A loss está melhorando, mas como saber se meu modelo está bom mesmo?*\n",
        "\n",
        "Podemos calcular uma métrica mais interpretável. No caso da classificação, temos a acurácia como métrica mais simples de avaliação. Esse valor será usado exclusivamente para visualizar a qualidade do modelo, não interferindo no treinamento da rede. \n",
        "\n",
        "Na célula anterior utilizaremos a biblioteca Scikit-Learn para calcular a acurácia, para isso basta\n",
        "* Armazenar os rótulos de cada iteração\n",
        "* Calcular a predição a partir da saída da rede\n",
        "* Utilizar a função do sklearn para cálculo da acurácia\n",
        "```python\n",
        "metrics.accuracy_score(rotulos, ypreds)\n",
        "```\n",
        "\n",
        "Documentação: https://scikit-learn.org/stable/modules/generated/sklearn.metrics.accuracy_score.html"
      ]
    }
  ]
}